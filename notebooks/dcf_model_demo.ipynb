{
 "cells": [
  {
   "cell_type": "code",
   "execution_count": null,
   "metadata": {},
   "outputs": [],
   "source": [
    "from src.dcf_model import calculate_dcf\n",
    "\n",
    "cash_flows = [100, 200, 300, 400, 500]\n",
    "discount_rate = 0.1\n",
    "\n",
    "npv = calculate_dcf(cash_flows, discount_rate)\n",
    "print(f\"Net Present Value (NPV): {npv}\")\n"
   ]
  }
 ],
 "metadata": {
  "language_info": {
   "name": "python"
  }
 },
 "nbformat": 4,
 "nbformat_minor": 2
}
