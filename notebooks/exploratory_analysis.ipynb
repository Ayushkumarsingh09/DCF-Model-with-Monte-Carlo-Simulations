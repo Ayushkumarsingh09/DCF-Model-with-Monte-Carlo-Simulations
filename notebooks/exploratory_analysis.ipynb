{
 "cells": [
  {
   "cell_type": "code",
   "execution_count": null,
   "metadata": {},
   "outputs": [],
   "source": [
    "# Exploratory Data Analysis\n",
    "import pandas as pd\n",
    "\n",
    "# Load historical data\n",
    "data = pd.read_csv('../data/historical_data.csv')\n",
    "\n",
    "# Summary statistics\n",
    "print(data.describe())\n",
    "\n",
    "# Plotting data\n",
    "import matplotlib.pyplot as plt\n",
    "data.plot(kind='line', x='Year', y='Revenue')\n",
    "plt.title('Revenue Over Time')\n",
    "plt.show()\n"
   ]
  }
 ],
 "metadata": {
  "language_info": {
   "name": "python"
  }
 },
 "nbformat": 4,
 "nbformat_minor": 2
}
