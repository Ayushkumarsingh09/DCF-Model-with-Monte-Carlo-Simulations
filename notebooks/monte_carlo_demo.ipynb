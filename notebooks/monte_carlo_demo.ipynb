{
 "cells": [
  {
   "cell_type": "code",
   "execution_count": null,
   "metadata": {},
   "outputs": [],
   "source": [
    "from src.monte_carlo import monte_carlo_simulation\n",
    "import matplotlib.pyplot as plt\n",
    "\n",
    "cash_flows = [100, 200, 300, 400, 500]\n",
    "discount_rate = 0.1\n",
    "iterations = 1000\n",
    "volatility = 0.2\n",
    "\n",
    "npvs = monte_carlo_simulation(cash_flows, discount_rate, iterations, volatility)\n",
    "\n",
    "# Plotting the simulation results\n",
    "plt.hist(npvs, bins=30, edgecolor='k', alpha=0.7)\n",
    "plt.title('Monte Carlo Simulation Results')\n",
    "plt.xlabel('NPV')\n",
    "plt.ylabel('Frequency')\n",
    "plt.show()\n"
   ]
  }
 ],
 "metadata": {
  "language_info": {
   "name": "python"
  }
 },
 "nbformat": 4,
 "nbformat_minor": 2
}
