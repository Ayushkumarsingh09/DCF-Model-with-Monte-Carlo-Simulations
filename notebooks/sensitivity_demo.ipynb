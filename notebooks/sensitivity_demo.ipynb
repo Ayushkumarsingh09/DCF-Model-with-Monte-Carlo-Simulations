{
 "cells": [
  {
   "cell_type": "code",
   "execution_count": null,
   "metadata": {},
   "outputs": [],
   "source": [
    "from src.sensitivity_analysis import sensitivity_analysis\n",
    "from src.scenario_analysis import scenario_analysis\n",
    "\n",
    "# Sensitivity analysis\n",
    "cash_flows = [100, 200, 300, 400, 500]\n",
    "discount_rate = 0.1\n",
    "factors = [-0.1, 0, 0.1]\n",
    "\n",
    "sensitivity_results = sensitivity_analysis(cash_flows, discount_rate, factors)\n",
    "print(\"Sensitivity Analysis Results:\", sensitivity_results)\n",
    "\n",
    "# Scenario analysis\n",
    "scenarios = {\n",
    "    \"pessimistic\": [80, 150, 200],\n",
    "    \"base_case\": [100, 200, 300],\n",
    "    \"optimistic\": [120, 250, 400]\n",
    "}\n",
    "\n",
    "scenario_results = scenario_analysis(scenarios, discount_rate)\n",
    "print(\"Scenario Analysis Results:\", scenario_results)\n"
   ]
  }
 ],
 "metadata": {
  "language_info": {
   "name": "python"
  }
 },
 "nbformat": 4,
 "nbformat_minor": 2
}
